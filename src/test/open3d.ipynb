{
 "cells": [
  {
   "cell_type": "markdown",
   "metadata": {},
   "source": [
    "## open3d"
   ]
  },
  {
   "cell_type": "code",
   "execution_count": 3,
   "metadata": {},
   "outputs": [
    {
     "ename": "ImportError",
     "evalue": "/home/jiangxing/anaconda3/envs/train/lib/python3.9/site-packages/open3d/linux/open3d.so: undefined symbol: _Py_ZeroStruct",
     "output_type": "error",
     "traceback": [
      "\u001b[0;31m---------------------------------------------------------------------------\u001b[0m",
      "\u001b[0;31mImportError\u001b[0m                               Traceback (most recent call last)",
      "\u001b[1;32m/data/ylw/code/pl_yolo/src/test/open3d.ipynb Cell 2\u001b[0m in \u001b[0;36m<cell line: 3>\u001b[0;34m()\u001b[0m\n\u001b[1;32m      <a href='vscode-notebook-cell:/data/ylw/code/pl_yolo/src/test/open3d.ipynb#W1sZmlsZQ%3D%3D?line=0'>1</a>\u001b[0m \u001b[39mimport\u001b[39;00m \u001b[39mos\u001b[39;00m\n\u001b[1;32m      <a href='vscode-notebook-cell:/data/ylw/code/pl_yolo/src/test/open3d.ipynb#W1sZmlsZQ%3D%3D?line=1'>2</a>\u001b[0m \u001b[39mimport\u001b[39;00m \u001b[39mnumpy\u001b[39;00m \u001b[39mas\u001b[39;00m \u001b[39mnp\u001b[39;00m\n\u001b[0;32m----> <a href='vscode-notebook-cell:/data/ylw/code/pl_yolo/src/test/open3d.ipynb#W1sZmlsZQ%3D%3D?line=2'>3</a>\u001b[0m \u001b[39mfrom\u001b[39;00m \u001b[39mopen3d\u001b[39;00m \u001b[39mimport\u001b[39;00m \u001b[39m*\u001b[39m\n\u001b[1;32m      <a href='vscode-notebook-cell:/data/ylw/code/pl_yolo/src/test/open3d.ipynb#W1sZmlsZQ%3D%3D?line=5'>6</a>\u001b[0m points \u001b[39m=\u001b[39m np\u001b[39m.\u001b[39mrandom\u001b[39m.\u001b[39mrand(\u001b[39m10000\u001b[39m, \u001b[39m3\u001b[39m)\n\u001b[1;32m      <a href='vscode-notebook-cell:/data/ylw/code/pl_yolo/src/test/open3d.ipynb#W1sZmlsZQ%3D%3D?line=6'>7</a>\u001b[0m point_cloud \u001b[39m=\u001b[39m PointCloud()\n",
      "File \u001b[0;32m~/anaconda3/envs/train/lib/python3.9/site-packages/open3d/__init__.py:9\u001b[0m, in \u001b[0;36m<module>\u001b[0;34m\u001b[0m\n\u001b[1;32m      6\u001b[0m \u001b[39mimport\u001b[39;00m \u001b[39msys\u001b[39;00m\n\u001b[1;32m      8\u001b[0m \u001b[39mif\u001b[39;00m sys\u001b[39m.\u001b[39mplatform \u001b[39m==\u001b[39m \u001b[39m\"\u001b[39m\u001b[39mlinux\u001b[39m\u001b[39m\"\u001b[39m \u001b[39mor\u001b[39;00m sys\u001b[39m.\u001b[39mplatform \u001b[39m==\u001b[39m \u001b[39m\"\u001b[39m\u001b[39mlinux2\u001b[39m\u001b[39m\"\u001b[39m:\n\u001b[0;32m----> 9\u001b[0m     \u001b[39mfrom\u001b[39;00m \u001b[39mopen3d\u001b[39;00m\u001b[39m.\u001b[39;00m\u001b[39mlinux\u001b[39;00m \u001b[39mimport\u001b[39;00m \u001b[39m*\u001b[39m\n\u001b[1;32m     10\u001b[0m \u001b[39melif\u001b[39;00m sys\u001b[39m.\u001b[39mplatform \u001b[39m==\u001b[39m \u001b[39m\"\u001b[39m\u001b[39mdarwin\u001b[39m\u001b[39m\"\u001b[39m:\n\u001b[1;32m     11\u001b[0m     \u001b[39mfrom\u001b[39;00m \u001b[39mopen3d\u001b[39;00m\u001b[39m.\u001b[39;00m\u001b[39mmacos\u001b[39;00m \u001b[39mimport\u001b[39;00m \u001b[39m*\u001b[39m\n",
      "File \u001b[0;32m~/anaconda3/envs/train/lib/python3.9/site-packages/open3d/linux/__init__.py:7\u001b[0m, in \u001b[0;36m<module>\u001b[0;34m\u001b[0m\n\u001b[1;32m      1\u001b[0m \u001b[39m# Open3D: www.open3d.org\u001b[39;00m\n\u001b[1;32m      2\u001b[0m \u001b[39m# The MIT License (MIT)\u001b[39;00m\n\u001b[1;32m      3\u001b[0m \u001b[39m# See license file or visit www.open3d.org for details\u001b[39;00m\n\u001b[1;32m      5\u001b[0m \u001b[39mimport\u001b[39;00m \u001b[39mimportlib\u001b[39;00m\n\u001b[0;32m----> 7\u001b[0m \u001b[39mglobals\u001b[39m()\u001b[39m.\u001b[39mupdate(importlib\u001b[39m.\u001b[39;49mimport_module(\u001b[39m'\u001b[39;49m\u001b[39mopen3d.linux.open3d\u001b[39;49m\u001b[39m'\u001b[39;49m)\u001b[39m.\u001b[39m\u001b[39m__dict__\u001b[39m)\n",
      "File \u001b[0;32m~/anaconda3/envs/train/lib/python3.9/importlib/__init__.py:127\u001b[0m, in \u001b[0;36mimport_module\u001b[0;34m(name, package)\u001b[0m\n\u001b[1;32m    125\u001b[0m             \u001b[39mbreak\u001b[39;00m\n\u001b[1;32m    126\u001b[0m         level \u001b[39m+\u001b[39m\u001b[39m=\u001b[39m \u001b[39m1\u001b[39m\n\u001b[0;32m--> 127\u001b[0m \u001b[39mreturn\u001b[39;00m _bootstrap\u001b[39m.\u001b[39;49m_gcd_import(name[level:], package, level)\n",
      "\u001b[0;31mImportError\u001b[0m: /home/jiangxing/anaconda3/envs/train/lib/python3.9/site-packages/open3d/linux/open3d.so: undefined symbol: _Py_ZeroStruct"
     ]
    }
   ],
   "source": [
    "import os\n",
    "import numpy as np\n",
    "from open3d import *\n",
    "\n",
    "\n",
    "points = np.random.rand(10000, 3)\n",
    "point_cloud = PointCloud()\n",
    "point_cloud.points = Vector3dVector(points)\n",
    "draw_geometries([point_cloud])"
   ]
  },
  {
   "cell_type": "code",
   "execution_count": null,
   "metadata": {},
   "outputs": [],
   "source": []
  },
  {
   "cell_type": "code",
   "execution_count": null,
   "metadata": {},
   "outputs": [],
   "source": []
  }
 ],
 "metadata": {
  "kernelspec": {
   "display_name": "Python 3.9.0 ('train')",
   "language": "python",
   "name": "python3"
  },
  "language_info": {
   "codemirror_mode": {
    "name": "ipython",
    "version": 3
   },
   "file_extension": ".py",
   "mimetype": "text/x-python",
   "name": "python",
   "nbconvert_exporter": "python",
   "pygments_lexer": "ipython3",
   "version": "3.9.0"
  },
  "orig_nbformat": 4,
  "vscode": {
   "interpreter": {
    "hash": "d740c7646e63427e6191f8164d347786ef6ce3d268dc00d8555a471847f63fe7"
   }
  }
 },
 "nbformat": 4,
 "nbformat_minor": 2
}
